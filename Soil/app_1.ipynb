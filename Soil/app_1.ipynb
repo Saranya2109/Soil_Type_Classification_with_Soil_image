{
 "cells": [
  {
   "cell_type": "code",
   "execution_count": 4,
   "id": "f83702e9",
   "metadata": {},
   "outputs": [],
   "source": [
    "# import sys\n",
    "# sys.path.append(r\"C:\\\\Users\\\\Saranya.Sakkarapani\\\\Anaconda3\\\\lib\\\\site-packages\\\\tensorflow\")\n",
    "from flask import jsonify,Flask, Request\n",
    "from flask_restful import Api, Resource\n",
    "from keras.models import load_model\n",
    "import cv2\n",
    "import tensorflow\n",
    "from tensorflow.keras.utils import load_img, img_to_array\n",
    "import numpy as np\n",
    "from PIL import Image\n",
    "from flask import Flask, request\n",
    "from flask_cors import CORS"
   ]
  },
  {
   "cell_type": "code",
   "execution_count": 5,
   "id": "dc35610e",
   "metadata": {},
   "outputs": [],
   "source": [
    "app = Flask(__name__)\n",
    "api = Api(app)\n",
    "\n",
    "model = load_model('soil-model.h5')\n",
    "\n",
    "@app.route('/app')\n",
    "def index():\n",
    "    return \"App is working\"\n",
    "\n",
    "@app.route('/imgrec', methods=['GET', 'POST'])\n",
    "def image_recognize():       \n",
    "    class_names = ['Black soil',\n",
    "              'Cinder soil',\n",
    "              'Laterite soil',\n",
    "              'Peat soil',\n",
    "              'Yellow soil']   \n",
    "    img_width, img_height = 150,150\n",
    "    \n",
    "    img_file = request.files['image']\n",
    "    # Read the image via file.stream\n",
    "    img = Image.open(img_file.stream)\n",
    "    im_resize = cv2.resize(img, (img_width,img_height), interpolation = cv2.INTER_LINEAR)\n",
    "    img = np.array(img)\n",
    "#     img_pred = load_img(path,target_size = (img_height, img_width))\n",
    "#     img_pred = img_to_array(img_pred)\n",
    "    img = np.expand_dims(img, axis = 3)\n",
    "    image = img.reshape( 1, 150,150,3)\n",
    "    resp = model.predict(image)\n",
    "    \n",
    "    return (class_names[np.argmax(resp[0])])\n",
    "\n",
    "@app.route('/upload', methods=['POST'])\n",
    "def upload():\n",
    "    image = request.files.get('image')\n",
    "    # do something with the image file...\n",
    "    class_names = ['Black soil',\n",
    "              'Cinder soil',\n",
    "              'Laterite soil',\n",
    "              'Peat soil',\n",
    "              'Yellow soil']  \n",
    "    img_width, img_height = 150,150\n",
    "    #img = Image.open(image.stream)\n",
    "    im_resize = cv2.resize(image, (img_width,img_height), interpolation = cv2.INTER_LINEAR)\n",
    "    img = np.array(img_resize)\n",
    "    img = np.expand_dims(img, axis = 3)\n",
    "    image = img.reshape( 1, 150,150,3)\n",
    "    resp = model.predict(image)\n",
    "    \n",
    "    return (class_names[np.argmax(resp[0])])\n",
    "\n",
    "@app.route(\"/im_size\", methods=[\"POST\"])\n",
    "def process_image():\n",
    "    file = request.files['image']\n",
    "    # Read the image via file.stream\n",
    "    img = Image.open(file.stream)\n",
    "\n",
    "    return jsonify({'msg': 'success', 'size': [img.width, img.height]})\n",
    "    "
   ]
  },
  {
   "cell_type": "code",
   "execution_count": null,
   "id": "edd8f0b1",
   "metadata": {},
   "outputs": [
    {
     "name": "stdout",
     "output_type": "stream",
     "text": [
      " * Serving Flask app \"__main__\" (lazy loading)\n",
      " * Environment: production\n",
      "\u001b[31m   WARNING: This is a development server. Do not use it in a production deployment.\u001b[0m\n",
      "\u001b[2m   Use a production WSGI server instead.\u001b[0m\n",
      " * Debug mode: off\n"
     ]
    },
    {
     "name": "stderr",
     "output_type": "stream",
     "text": [
      " * Running on http://127.0.0.1:5000/ (Press CTRL+C to quit)\n",
      "127.0.0.1 - - [09/Feb/2023 18:18:11] \"GET /app HTTP/1.1\" 200 -\n",
      "127.0.0.1 - - [09/Feb/2023 18:18:30] \"GET /mg_rec HTTP/1.1\" 404 -\n",
      "127.0.0.1 - - [09/Feb/2023 18:18:40] \"GET /mgrec HTTP/1.1\" 404 -\n",
      "[2023-02-09 18:18:48,145] ERROR in app: Exception on /imgrec [GET]\n",
      "Traceback (most recent call last):\n",
      "  File \"C:\\Users\\Saranya.Sakkarapani\\Anaconda3\\lib\\site-packages\\flask\\app.py\", line 2447, in wsgi_app\n",
      "    response = self.full_dispatch_request()\n",
      "  File \"C:\\Users\\Saranya.Sakkarapani\\Anaconda3\\lib\\site-packages\\flask\\app.py\", line 1952, in full_dispatch_request\n",
      "    rv = self.handle_user_exception(e)\n",
      "  File \"C:\\Users\\Saranya.Sakkarapani\\Anaconda3\\lib\\site-packages\\flask_restful\\__init__.py\", line 271, in error_router\n",
      "    return original_handler(e)\n",
      "  File \"C:\\Users\\Saranya.Sakkarapani\\Anaconda3\\lib\\site-packages\\flask\\app.py\", line 1821, in handle_user_exception\n",
      "    reraise(exc_type, exc_value, tb)\n",
      "  File \"C:\\Users\\Saranya.Sakkarapani\\Anaconda3\\lib\\site-packages\\flask\\_compat.py\", line 39, in reraise\n",
      "    raise value\n",
      "  File \"C:\\Users\\Saranya.Sakkarapani\\Anaconda3\\lib\\site-packages\\flask\\app.py\", line 1950, in full_dispatch_request\n",
      "    rv = self.dispatch_request()\n",
      "  File \"C:\\Users\\Saranya.Sakkarapani\\Anaconda3\\lib\\site-packages\\flask\\app.py\", line 1936, in dispatch_request\n",
      "    return self.view_functions[rule.endpoint](**req.view_args)\n",
      "  File \"C:\\Users\\Saranya.Sakkarapani\\AppData\\Local\\Temp\\ipykernel_15752\\3830114676.py\", line 22, in image_recognize\n",
      "    im_resize = cv2.resize(img, (img_width,img_height), interpolation = cv2.INTER_LINEAR)\n",
      "cv2.error: OpenCV(4.6.0) :-1: error: (-5:Bad argument) in function 'resize'\n",
      "> Overload resolution failed:\n",
      ">  - src is not a numpy array, neither a scalar\n",
      ">  - Expected Ptr<cv::UMat> for argument 'src'\n",
      "\n",
      "127.0.0.1 - - [09/Feb/2023 18:18:48] \"GET /imgrec HTTP/1.1\" 500 -\n"
     ]
    }
   ],
   "source": [
    "if __name__ == \"__main__\":\n",
    "    app.run(debug=False)"
   ]
  },
  {
   "cell_type": "code",
   "execution_count": null,
   "id": "8189def8",
   "metadata": {},
   "outputs": [],
   "source": []
  }
 ],
 "metadata": {
  "kernelspec": {
   "display_name": "Python 3 (ipykernel)",
   "language": "python",
   "name": "python3"
  },
  "language_info": {
   "codemirror_mode": {
    "name": "ipython",
    "version": 3
   },
   "file_extension": ".py",
   "mimetype": "text/x-python",
   "name": "python",
   "nbconvert_exporter": "python",
   "pygments_lexer": "ipython3",
   "version": "3.9.12"
  }
 },
 "nbformat": 4,
 "nbformat_minor": 5
}
