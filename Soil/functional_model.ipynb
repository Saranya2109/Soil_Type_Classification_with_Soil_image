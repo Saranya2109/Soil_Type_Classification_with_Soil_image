{
 "cells": [
  {
   "cell_type": "code",
   "execution_count": 1,
   "id": "193482aa",
   "metadata": {},
   "outputs": [
    {
     "name": "stderr",
     "output_type": "stream",
     "text": [
      "C:\\Users\\Saranya.Sakkarapani\\Anaconda3\\lib\\site-packages\\scipy\\__init__.py:146: UserWarning: A NumPy version >=1.16.5 and <1.23.0 is required for this version of SciPy (detected version 1.23.5\n",
      "  warnings.warn(f\"A NumPy version >={np_minversion} and <{np_maxversion}\"\n"
     ]
    }
   ],
   "source": [
    "import tensorflow as tf\n",
    "import keras\n",
    "from tensorflow.keras import layers\n",
    "from tensorflow.keras import Model\n",
    "from tensorflow.keras.layers import Dense,Activation,Dropout,MaxPool2D,Flatten,Conv2D\n",
    "from tensorflow.keras.optimizers import Adam,RMSprop,SGD,Adagrad"
   ]
  },
  {
   "cell_type": "code",
   "execution_count": 2,
   "id": "1357636e",
   "metadata": {},
   "outputs": [],
   "source": [
    "def get_model():\n",
    "    \n",
    "    img_width, img_height = 150,150\n",
    "    inputs = keras.Input(shape=(150,150,3))\n",
    "    x = layers.Conv2D(64,3,3, padding = 'same', activation = 'relu')(inputs)\n",
    "    x = layers.MaxPool2D(pool_size = (2,2))(x)\n",
    "    x = layers.Dropout(0.2)(x)\n",
    "    x = layers.Conv2D(32,3,3, padding = 'same', activation = 'relu')(x)\n",
    "    x = layers.MaxPool2D(pool_size = (2,2))(x)\n",
    "    x = layers.Dropout(0.2)(x)\n",
    "    x = layers.Dense(32, activation = 'relu')(x)\n",
    "    x = Flatten()(x)\n",
    "    x = layers.Dense(32, activation = 'relu')(x)\n",
    "    outputs = layers.Dense(5, activation = 'softmax')(x)\n",
    "    \n",
    "    func_model = Model(inputs = inputs, outputs = outputs)\n",
    "    \n",
    "    func_model.summary()\n",
    "    \n",
    "    func_model.compile(optimizer='adam', loss ='categorical_crossentropy', metrics = ['accuracy'])\n",
    "    \n",
    "    \n",
    "    return func_model"
   ]
  },
  {
   "cell_type": "code",
   "execution_count": null,
   "id": "45a2e6be",
   "metadata": {},
   "outputs": [],
   "source": []
  }
 ],
 "metadata": {
  "kernelspec": {
   "display_name": "Python 3 (ipykernel)",
   "language": "python",
   "name": "python3"
  },
  "language_info": {
   "codemirror_mode": {
    "name": "ipython",
    "version": 3
   },
   "file_extension": ".py",
   "mimetype": "text/x-python",
   "name": "python",
   "nbconvert_exporter": "python",
   "pygments_lexer": "ipython3",
   "version": "3.9.12"
  }
 },
 "nbformat": 4,
 "nbformat_minor": 5
}
